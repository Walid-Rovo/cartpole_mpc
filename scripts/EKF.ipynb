{
 "cells": [
  {
   "cell_type": "markdown",
   "metadata": {
    "graffitiCellId": "id_5m4qcsv"
   },
   "source": [
    "<table style=\"width:100%\"><tr>\n",
    "<td> \n",
    "    \n",
    "<b>Technische Universität Dortmund</b>    \n",
    "Department of Bio- and Chemical Engineering\\\n",
    "Laboratory of Process Automation Systems\\\n",
    "Prof. Dr. Sergio Lucia </td>\n",
    "<td>  <img src=\"./support_files/figures/tudo_logo.png\" style=\"width: 60%;\" align=\"right\"/> </td>\n",
    "</tr>\n",
    "</table>\n",
    "\n",
    "# Advanced Process Control - Project\n",
    "WS 2022 / 2023\n"
   ]
  },
  {
   "cell_type": "markdown",
   "metadata": {
    "graffitiCellId": "id_k0oh57o"
   },
   "source": [
    "# Inverted Pendulum Continuous Nonlinear System"
   ]
  },
  {
   "cell_type": "markdown",
   "metadata": {
    "graffitiCellId": "id_tgqkk3x"
   },
   "source": [
    "For this tutorial, we are going to consider the following<span class=\"graffiti-highlight graffiti-id_tgqkk3x-id_23yzj32\"><i></i> three-tank system example</span> [[1]](https://ieeexplore.ieee.org/stamp/stamp.jsp?arnumber=8879526).\n",
    "\n",
    "\n",
    "\n",
    "\n",
    "<img src=\"./support_files/figures/three_tank_system.png\" style=\"width: 60%;\" align=\"center\"/>\n",
    "\n",
    "\n",
    "The plant consists of three tanks with a cross-sectional area $A$. They are connected serially together through connecting pipes with cross-sectional area $S_{p}$. The input to the system is through two pumps. The flow of both pumps is assumed to be **constant**. Our states ($x_1$, $x_2$, and $x_3$) are the level of water in each of the tanks. We assume the water level in tank three is measured. The water level in each of the tanks can be described by the following equations.  "
   ]
  },
  {
   "cell_type": "markdown",
   "metadata": {
    "graffitiCellId": "id_fcm4nk8"
   },
   "source": [
    "\\begin{align}\n",
    "{x_1}(k+1) &= x_1(k)+ \\frac{T_s}{A}(-q_{13}(k)+u_1(k)) \\\\\n",
    "{x_2}(k+1) &= x_2(k)+ \\frac{T_s}{A}(q_{32}(k)-q_{20}+u_2(k)) \\\\\n",
    "{x_3}(k+1) &= x_3(k)+ \\frac{T_s}{A}(q_{13}(k)-q_{32}+u_2(k)) \\\\\n",
    "\\end{align}"
   ]
  },
  {
   "cell_type": "markdown",
   "metadata": {
    "graffitiCellId": "id_qtqkoyq"
   },
   "source": [
    "where, \n",
    "\n",
    "\\begin{align}\n",
    "q_{13}(k) &= r_{1}S_{p}Sign(x_1(k)-x_3(k))\\sqrt{2g|x_1(k)-x_3(k)|} \\\\\n",
    "q_{32}(k) &= r_3S_pSign(x_3(k)-x_2(k))\\sqrt{2g|x_3(k)-x_2(k)|} \\\\\n",
    "q_{20}(k) &= r_2S_p\\sqrt{2gx_2(k)} \\\\\n",
    "\\end{align}"
   ]
  },
  {
   "cell_type": "markdown",
   "metadata": {
    "graffitiCellId": "id_a2vu1uf"
   },
   "source": [
    "The cross-sectional area A of the three tanks is $0.00154$ $m^2$. The outflow coefficients $r_i$ of the pipes are 1, 0.8, and 1 respectively. The connecting pipes are assumed to have a cross-sectional area of $S_p = 5\\times10^{-5}$. The flow rate of both pumps is $u_1=u_2=1\\times 10^{-4}$. The sampling time $T_s$ is fixed for one second.\\\n",
    "\\\n",
    "**Note**: $q_{1f}$ and $q_{2f}$ are disturbances to the plant and are assumed to be zero. "
   ]
  },
  {
   "cell_type": "markdown",
   "metadata": {
    "graffitiCellId": "id_yunxucp"
   },
   "source": [
    "The<span class=\"graffiti-highlight graffiti-id_yunxucp-id_6en1icz\"><i></i> first step would</span> be to import important packages that we are going to use. "
   ]
  },
  {
   "cell_type": "code",
   "execution_count": 1,
   "metadata": {
    "graffitiCellId": "id_tt74gf3"
   },
   "outputs": [],
   "source": [
    "import numpy as np\n",
    "import matplotlib.pyplot as plt\n",
    "from casadi import *"
   ]
  },
  {
   "cell_type": "markdown",
   "metadata": {
    "graffitiCellId": "id_6tt5q7h"
   },
   "source": [
    "We then define the constant parameters given in the description :"
   ]
  },
  {
   "cell_type": "code",
   "execution_count": 2,
   "metadata": {
    "graffitiCellId": "id_px1gdcz"
   },
   "outputs": [],
   "source": [
    "# Defining parameters\n",
    "g = 9.81 #m/s^2\n",
    "mc = 2.4 #kg\n",
    "\n",
    "\n",
    "# nx the number of states, nu the number of inputs and ny the number of measurements\n",
    "nx = 6\n",
    "nu = 1\n",
    "ny = 2\n",
    "# constant flow from both pumps\n",
    "u_k = np.array([0.0]).reshape([-1, 1])"
   ]
  },
  {
   "cell_type": "markdown",
   "metadata": {
    "graffitiCellId": "id_q75z8me"
   },
   "source": [
    "# Task 01 : <span class=\"graffiti-highlight graffiti-id_q75z8me-id_icikp32\"><i></i>Define symbolic expressions for the states, outputs and system equations</span>"
   ]
  },
  {
   "cell_type": "markdown",
   "metadata": {
    "graffitiCellId": "id_7bh9a18"
   },
   "source": [
    "In this exercise, we will be working with the CasADi package. The idea is to create a symbolic expression of the discrete non-linear system. We can do that through the following steps. "
   ]
  },
  {
   "cell_type": "markdown",
   "metadata": {
    "graffitiCellId": "id_2283dhc"
   },
   "source": [
    "1. Define a vector of symbolic variables for the states `x` taking into account the predefined state dimension `nx`.  \n",
    "2. Define a vector of symbols for the input `u` taking into consideration the dimension `nu`.\n",
    "\n",
    "**Hint**: Please see the [CasADi documentation](https://web.casadi.org/docs/) or revisit tutorial 2 on how to work with CasADi symbolic variables."
   ]
  },
  {
   "cell_type": "code",
   "execution_count": 3,
   "metadata": {
    "graffitiCellId": "id_pjomxzy"
   },
   "outputs": [],
   "source": [
    "# your code here !\n",
    "x = SX.sym(\"x\",nx)\n",
    "u = SX.sym(\"u\",nu)"
   ]
  },
  {
   "cell_type": "markdown",
   "metadata": {
    "graffitiCellId": "id_m0ddrxs"
   },
   "source": [
    "<span class=\"graffiti-highlight graffiti-id_m0ddrxs-id_o5eu5vx\"><i></i><button>Show Solution</button></span>"
   ]
  },
  {
   "cell_type": "markdown",
   "metadata": {
    "graffitiCellId": "id_j8im7p7"
   },
   "source": [
    "3. Define a symbolic expression to represent the discrete system equations ($x_{k+1}$) and name it `x_next`. We propose the following:\n",
    "    1. Define an expression for each state separately (`x_next_i`). \n",
    "    2. Concatenate these expressions using [vertcat](https://web.casadi.org/docs/#list-of-operations) from the CasADi library. \n",
    "    \n",
    "**Note:** The index **i** refers to the tank number i.e for our system `x_next_1` is $x_{1}(k+1)$ and `x_next_2` is $x_{2}(k+1)$. \n",
    "\n",
    "**Hint:** You may need to have a look at this list of [CasADi operations](https://web.casadi.org/docs/#list-of-operations). CasADi operations can also be found [here](https://web.casadi.org/python-api/) (poorly documented). Note also that some numpy operations, such as ``np.sin`` can be used with CasADi symbolic variables. "
   ]
  },
  {
   "cell_type": "code",
   "execution_count": 4,
   "metadata": {
    "graffitiCellId": "id_zb5hrjt"
   },
   "outputs": [],
   "source": [
    "# your code here !\n",
    "den_t = mc + x[5] - x[5]*(cos(x[2])**2)\n",
    "delta_h = 0.001\n",
    "\n",
    "x_next_0 = x[0] + delta_h*x[1]\n",
    "x_next_1 = x[1] + delta_h*(((x[5]*x[4]* (x[3]**2) *sin(x[2]))/den_t) - ((x[5]*g*cos(x[2])*sin(x[2]))/den_t) + (u[0]/den_t))\n",
    "x_next_2 = x[2] + delta_h*x[3]\n",
    "x_next_3 = x[3] + delta_h*((((mc+x[5])*g*sin(x[2]))/den_t) + ((x[5]*x[4]* (x[3]**2) *sin(x[2])*cos(x[2]))/den_t) + ((u[0]*cos(x[2]))/den_t))\n",
    "x_next_4 = x[4] + 0\n",
    "x_next_5 = x[5] + 0\n",
    "x_next = vertcat(x_next_0,x_next_1,x_next_2, x_next_3, x_next_4, x_next_5)"
   ]
  },
  {
   "cell_type": "markdown",
   "metadata": {
    "graffitiCellId": "id_exl5o01"
   },
   "source": [
    "<span class=\"graffiti-highlight graffiti-id_exl5o01-id_oy4j6yb\"><i></i><button>Show Solution</button></span>"
   ]
  },
  {
   "cell_type": "markdown",
   "metadata": {
    "graffitiCellId": "id_621s076"
   },
   "source": [
    "Click <span class=\"graffiti-highlight graffiti-id_621s076-id_ow0dsvw\"><i></i>here</span> for explanation."
   ]
  },
  {
   "cell_type": "markdown",
   "metadata": {
    "graffitiCellId": "id_k42ecvm"
   },
   "source": [
    "4. Create a CasADi [Function](https://web.casadi.org/docs/#document-function) that takes as an input the current state $x_{k}$ and input $u_{k}$ and returns the next state $x_{k+1}$. This function should be named `system`:\n",
    "```python\n",
    "system = Function(...)\n",
    "```"
   ]
  },
  {
   "cell_type": "code",
   "execution_count": 5,
   "metadata": {
    "graffitiCellId": "id_hq3pgcn"
   },
   "outputs": [
    {
     "data": {
      "text/plain": [
       "SX(@1=0.001, @2=2.4, @3=((@2+x_5)-(x_5*sq(cos(x_2)))), @4=9.81, [(x_0+(@1*x_1)), (x_1+(@1*((((((x_5*x_4)*sq(x_3))*sin(x_2))/@3)-((((@4*x_5)*cos(x_2))*sin(x_2))/@3))+(u/@3)))), (x_2+(@1*x_3)), (x_3+(@1*(((((@4*(@2+x_5))*sin(x_2))/@3)+(((((x_5*x_4)*sq(x_3))*sin(x_2))*cos(x_2))/@3))+((u*cos(x_2))/@3)))), x_4, x_5])"
      ]
     },
     "execution_count": 5,
     "metadata": {},
     "output_type": "execute_result"
    }
   ],
   "source": [
    "# your code here !\n",
    "system = Function('x_next',[x, u],[x_next])\n",
    "system(x,u)"
   ]
  },
  {
   "cell_type": "markdown",
   "metadata": {
    "graffitiCellId": "id_5f3ahg3"
   },
   "source": [
    "<span class=\"graffiti-highlight graffiti-id_5f3ahg3-id_xmp3hij\"><i></i><button>Show Solution</button></span>"
   ]
  },
  {
   "cell_type": "markdown",
   "metadata": {
    "graffitiCellId": "id_d23t6sh"
   },
   "source": [
    "Click <span class=\"graffiti-highlight graffiti-id_d23t6sh-id_5a6a5pq\"><i></i>here</span> for explanation."
   ]
  },
  {
   "cell_type": "markdown",
   "metadata": {
    "graffitiCellId": "id_66v932t"
   },
   "source": [
    "5. Create an expression for the measurement at time step $k$ `y_k`, and define a CasADi function `measurement` that takes as input the current state $x_{k}$ and returns the corresponding measurement. \n",
    "\n",
    "**Reminder** : We are measuring the level of tank 3. "
   ]
  },
  {
   "cell_type": "code",
   "execution_count": 6,
   "metadata": {
    "graffitiCellId": "id_wduig9u"
   },
   "outputs": [],
   "source": [
    "# your code here !\n",
    "y_k = vertcat(x[0], x[2])\n",
    "measurement = Function('y_k',[x],[y_k])"
   ]
  },
  {
   "cell_type": "markdown",
   "metadata": {
    "graffitiCellId": "id_3ppdh1b"
   },
   "source": [
    "<span class=\"graffiti-highlight graffiti-id_3ppdh1b-id_vdlhr9i\"><i></i><button>Show Solution</button></span>"
   ]
  },
  {
   "cell_type": "markdown",
   "metadata": {
    "graffitiCellId": "id_fv8xsuy"
   },
   "source": [
    "# Task 02: <span class=\"graffiti-highlight graffiti-id_fv8xsuy-id_iqk7tjy\"><i></i>Create a function to simulate the system</span>"
   ]
  },
  {
   "cell_type": "markdown",
   "metadata": {
    "graffitiCellId": "id_3eaey48"
   },
   "source": [
    "The idea is to design a function `simulate` that takes as an input the initial condition `x_0` , a constant input `u_k` and the number of steps `N_sim` and returns a vector of the state trajectory and measurement trajectory."
   ]
  },
  {
   "cell_type": "markdown",
   "metadata": {
    "graffitiCellId": "id_3jqeemv"
   },
   "source": [
    "Write the function:\n",
    "```python\n",
    "def simulate(x_0, u_k, N_sim):\n",
    "    ...\n",
    "```\n",
    "\n",
    "and perform the following steps in the body of the function:\n",
    "1. Create a list `res_x` that stores state trajectories and append the initial state.\n",
    "2. Create a list `res_y`that stores the measurement trajectories and append the corresponding measurement with the initial state. \n",
    "3. Design a For-Loop that calls `system` and `measurement` functions `N_sim` times.\n",
    "4. Use `np.concatenate` to transform the 1-D list into a 2-D array.\n",
    "5. Return the concatenated arrays `res_x` and `res_y`."
   ]
  },
  {
   "cell_type": "code",
   "execution_count": 7,
   "metadata": {
    "graffitiCellId": "id_hwma9td"
   },
   "outputs": [],
   "source": [
    "# your code here !\n",
    "def simulate(x_0, u_k, N_sim):\n",
    "    res_x = [x_0]\n",
    "    #res_y = [x_0[2].reshape(1,1)]   note that when getting a value from an array it is not an array of (1,1) it is (1,)\n",
    "    # so you need to reshape it to (1,1) if you want to add it as an array to a list for example.\n",
    "    res_y = [measurement(x_0).full()]\n",
    "    for i in range(N_sim):\n",
    "        x_0 = system(x_0,u_k).full()\n",
    "        res_x.append(x_0)\n",
    "        res_y.append(measurement(x_0).full())\n",
    "    res_x = np.concatenate(res_x,axis =1)\n",
    "    res_y = np.concatenate(res_y,axis =1)\n",
    "    return res_x,res_y"
   ]
  },
  {
   "cell_type": "markdown",
   "metadata": {
    "graffitiCellId": "id_jiqsskh"
   },
   "source": [
    "<span class=\"graffiti-highlight graffiti-id_jiqsskh-id_r3djwo0\"><i></i><button>Show Solution</button></span>"
   ]
  },
  {
   "cell_type": "markdown",
   "metadata": {
    "graffitiCellId": "id_9qmn7jf"
   },
   "source": [
    "# Task 03 : Simulate the system for different initial conditions "
   ]
  },
  {
   "cell_type": "markdown",
   "metadata": {
    "graffitiCellId": "id_frgk0n3"
   },
   "source": [
    "We use the function `simulate`  to simulate how the system evolves for different initial conditions. We test the system for the following two initial conditions $x_0^1=[2, 2.8, 2.7]$ and $x_0^2=[1.2, 1.4, 1.8]$. The following steps will lead you through the procedure. "
   ]
  },
  {
   "cell_type": "markdown",
   "metadata": {
    "graffitiCellId": "id_5r1jjdn"
   },
   "source": [
    "1. Define two initial conditions `initial_one` and `initial_two` and initialize them with their corresponding values.\n",
    "2. Define `N_sim` which corresponds to the simulation steps. We would like to simulate the system for 200 steps \n",
    "3. Call the function `simulate` with the defined variables and store the returns to (`state_one`,`measurement_one`,`state_two`,`measurement_two`)."
   ]
  },
  {
   "cell_type": "code",
   "execution_count": 8,
   "metadata": {
    "graffitiCellId": "id_zkgvub9"
   },
   "outputs": [],
   "source": [
    "# your code here !\n",
    "initial_one = np.array([0.5,0,3.1,0,0.36,0.23]).reshape(6,1)\n",
    "#initial_two = np.array([1.2,1.4,1.8]).reshape(3,1)\n",
    "N_sim = 10000\n",
    "\n",
    "state_one, measurement_one = simulate(initial_one,u_k,N_sim)\n",
    "#state_two, measurement_two = simulate(initial_two,u_k,N_sim)"
   ]
  },
  {
   "cell_type": "markdown",
   "metadata": {
    "graffitiCellId": "id_j52hfgc"
   },
   "source": [
    "<span class=\"graffiti-highlight graffiti-id_j52hfgc-id_jtkoqg6\"><i></i><button>Show Solution</button></span>"
   ]
  },
  {
   "cell_type": "markdown",
   "metadata": {
    "graffitiCellId": "id_yzk92e8"
   },
   "source": [
    "Use the given code to plot how the system evolves for different initial points. "
   ]
  },
  {
   "cell_type": "code",
   "execution_count": 9,
   "metadata": {
    "graffitiCellId": "id_jyolpe6"
   },
   "outputs": [
    {
     "data": {
      "image/png": "[encoded data removed]",
      "text/plain": [
       "<Figure size 640x480 with 6 Axes>"
      ]
     },
     "metadata": {},
     "output_type": "display_data"
    }
   ],
   "source": [
    "## use this code to plot your results\n",
    "fig, ax = plt.subplots(nx)\n",
    "fig.suptitle('Simulation')\n",
    "\n",
    "for i in range(nx):\n",
    "    ax[i].plot(state_one[i, :])\n",
    "   # ax[i].plot(state_two[i, :])\n",
    "    ax[i].set_ylabel('x{}'.format(i))\n",
    "   # ax[i].set_xticklabels([])\n",
    "\n",
    "ax[nx - 1].plot(state_one[i, :])\n",
    "#ax[nx - 1].plot(state_two[i, :])\n",
    "ax[nx - 1].set_xlabel('time_steps')\n",
    "fig.legend([\"initial_one\", \"initial_two\"])\n",
    "\n",
    "plt.show()"
   ]
  },
  {
   "cell_type": "markdown",
   "metadata": {
    "graffitiCellId": "id_upoia46"
   },
   "source": [
    "# Task 04 : Create symbolic functions to calculate the Jacobians"
   ]
  },
  {
   "cell_type": "markdown",
   "metadata": {
    "graffitiCellId": "id_jnat2qg"
   },
   "source": [
    "For the linearization of the system dynamics and measurement equation at different points, we utilize CasADi symbolic calculations. \n",
    "This can be done through the following steps. \n",
    "1. Create a symbolic expression for the jacobian `a_tilde` and `c_tilde` using [jacobian](https://web.casadi.org/docs/) from the CasADi package. \n",
    "2. Create a CasADi function `A_fun` to calculate the linearized system matrix. It will take as an input the symbolic state  `x` and input `u` and will return the evaluated jacobian of $\\partial_x f(x,u)$ at $x_{k}$ and $u_k$. \n",
    "3. Create a CasADi function `C_fun` for the linearized measurements.\n",
    "\n",
    "**Note:** \n",
    "- Expressions `f(x,u)` and `h(x)` refer to the system dynamics and output equation that have been defined in task 01.  \n",
    "- Operations, e.g. [jacobian](https://web.casadi.org/docs/), must be applied to CasADi **expressions** not to CasADi **functions. \n",
    "- The output equation `h(x)` is linear leading to a constant $C$. However, this code is meant to work for general nonlinear systems."
   ]
  },
  {
   "cell_type": "code",
   "execution_count": 10,
   "metadata": {
    "graffitiCellId": "id_uh1jqzr"
   },
   "outputs": [],
   "source": [
    "# your code here !\n",
    "a_tilde = jacobian(x_next,x)\n",
    "c_tilde = jacobian(y_k,x)\n",
    "\n",
    "A_fun = Function('A_fun', [x,u], [a_tilde])\n",
    "C_fun = Function('C_fun', [x], [c_tilde])"
   ]
  },
  {
   "cell_type": "markdown",
   "metadata": {
    "graffitiCellId": "id_nz9h5es"
   },
   "source": [
    "<span class=\"graffiti-highlight graffiti-id_nz9h5es-id_befh5kg\"><i></i><button>Show Solution</button></span>"
   ]
  },
  {
   "cell_type": "markdown",
   "metadata": {
    "graffitiCellId": "id_o0xwmla"
   },
   "source": [
    "# <span class=\"graffiti-highlight graffiti-id_o0xwmla-id_xx5mu5v\"><i></i>Discrete Extended Kalman Filter</span>"
   ]
  },
  {
   "cell_type": "markdown",
   "metadata": {
    "graffitiCellId": "id_jxbu917"
   },
   "source": [
    "\n",
    "Consider the following nonlinear dynamic system :\n",
    "\\begin{align}\n",
    "\\mathbf{x}_{k+1} &= \\mathbf{f}(\\mathbf{x}_k,\\mathbf{u}_k) + \\mathbf{w}_x \\\\\n",
    "\\mathbf{y}_k & = \\mathbf{h}(\\mathbf{x}_k) + \\mathbf{w}_y\n",
    "\\end{align}\n",
    "<br/><br/>\n",
    "\n",
    "with $w_x\\sim\\mathcal{N}(0,Q)$, and $w_y\\sim\\mathcal{N}(0,R)$ and Gaussian distribution of the initial estimate $x_0\\sim\\mathcal{N}(0,P)$. \n",
    "\n",
    "<br/><br/>\n"
   ]
  },
  {
   "cell_type": "markdown",
   "metadata": {
    "graffitiCellId": "id_gfic23x"
   },
   "source": [
    "The algorithm of the discrete EKF can be divided into two steps:\n",
    "<ul>\n",
    "\n",
    "<li> <u>Correction or Measurement update </u></li>\n",
    "\\begin{align}\n",
    "\\mathbf{L}_k &= \\mathbf{P}^{-}_{k} \\: \\mathbf{\\tilde{C}}^T_{k}\\left(\\mathbf{\\tilde{C}}_{k}\\mathbf{P}^{-}_{k}\\mathbf{\\tilde{C}}^T_{k}+\\mathbf{R}\\right)^{-1}\\\\\n",
    "\\hat{\\mathbf{x}}_{k} &= \\hat{\\mathbf{x}}^{-}_{k}+\\mathbf{L}_k\\left(\\mathbf{y}_k-\\mathbf{h}(\\hat{\\mathbf{x}}^{-}_{k})\\right)\\\\\n",
    "\\mathbf{P}_{k} &= \\left(I-\\mathbf{L}_k\\mathbf{\\tilde{C}}_{k}\\right)\\mathbf{P}^{-}_{k}\n",
    "\\end{align}\n",
    "    \n",
    "<li> <u> Prediction or Time update </u> </li>\n",
    "    \n",
    "Based on the last corrected estimate  $\\hat{\\mathbf{x}}_{k}$, the states for the next step are predicted by the model equations without considering disturbances:\n",
    "\\begin{align}\n",
    "\\hat{\\mathbf{x}}^{-}_{k}=\\mathbf{f}(\\hat{\\mathbf{x}}_{k-1},\\mathbf{u}_{k-1})\n",
    "\\end{align}\n",
    "Furthermore, the covariance matrix of the estimation error is predicted for the next sample time:\n",
    "\\begin{align}\n",
    "\\mathbf{P}^{-}_{k}=\\mathbf{\\tilde{A}}_{k}\\mathbf{P}_{k-1}\\mathbf{\\tilde{A}}_{k}^T + \\mathbf{Q}\n",
    "\\end{align}\n",
    "with:\n",
    "\\begin{align}\n",
    "\\mathbf{\\tilde{A}}_{k} = \\left.\\frac{\\partial \\mathbf{f}}{\\partial \\mathbf{x}}\\right|_{\\hat{\\mathbf{x}}_{k-1},\\mathbf{u}_k} \\qquad \\mathbf{\\tilde{C}}_{k} = \\left.\\frac{\\partial \\mathbf{h}}{\\partial \\mathbf{x}}\\right|_{\\hat{\\mathbf{x}}^{-}_k}\n",
    "\\end{align}\n",
    "\n",
    "<ul>"
   ]
  },
  {
   "cell_type": "markdown",
   "metadata": {
    "graffitiCellId": "id_po9mje4"
   },
   "source": [
    "## Task 5: Simulate and estimate the system with the Extended Kalman filter\n",
    "\n",
    "Similarly to tutorial 3, we would like to simulate and estimate the states of the investigated system. This time we want to formulate the discrete observer into a function. The function should have the following signature:\n",
    "\n",
    "```python\n",
    "def discrete_EKF_filter(x0, x0_observer, P_0, Q, R, N_sim):\n",
    "    ...\n",
    "    return x_data, x_hat_data, y_measured\n",
    "```\n",
    "With inputs:\n",
    "1. `x0` initial condition of the plant\n",
    "2. `x0_observer` initial condition for the observer\n",
    "3. `P_0`, `Q` and `R` parameters of the kalman filter\n",
    "4. `N_sim` number of simulation steps. \n",
    "\n",
    "The function should return:\n",
    "1. `x_data`, an array of the true states of the plant\n",
    "2. `plant_measurements`, an array of the measurements\n",
    "3. `y_measured`, an array of the observer states.\n",
    "\n",
    "The main loop of the function should:\n",
    "1. Store the states of the observer and the plant \n",
    "2. Add the noise to the process and measurements \n",
    "3. Carry the correction step \n",
    "4. Carry the prediction step.\n",
    "\n",
    "To make it easier for you we will break this task into three sub-tasks."
   ]
  },
  {
   "cell_type": "markdown",
   "metadata": {
    "graffitiCellId": "id_7u4z14n"
   },
   "source": [
    "### Task 5.1 : Define the function , initial parameters and return variables"
   ]
  },
  {
   "cell_type": "markdown",
   "metadata": {
    "graffitiCellId": "id_e18r3i3"
   },
   "source": [
    "1. The function `discrete_EKF_filter` should take as an input `x0`, `x0_observer` ,`P_0`, `Q` ,`R` parameters of the Kalman filter `N_sim`.\n",
    "2. Initiate lists to store the real (`x_data`) and estimated states (`x_hat_data`) and obtained measurements ``y_measured``. These lists `x_data` and `x_hat_data` should already contain the real and estimated initial state.\n",
    "3. Define the noise variances ``var_x`` and ``var_y`` equal to the variances of the `Q` and `R`. \n"
   ]
  },
  {
   "cell_type": "code",
   "execution_count": 11,
   "metadata": {
    "graffitiCellId": "id_rn1s70o"
   },
   "outputs": [],
   "source": [
    "def discrete_EKF_filter(x0, x0_observer, P_0, Q, R, N_sim):\n",
    "    # defining empty list\n",
    "    x_data = [x0]\n",
    "    x_hat_data = [x0_observer]\n",
    "    y_measured = []\n",
    "    # defining noise variance\n",
    "   # var_x = Q @ np.ones([nx, 1])\n",
    "   # var_y = R @ np.ones([ny, 1])\n",
    "\n",
    "\n",
    "    for j in range(N_sim):\n",
    "        # Gaussian noise for the plant and measurement\n",
    "      #  wx = np.random.normal(0, np.sqrt(var_x)).reshape(nx, 1)\n",
    "      #  wy = np.random.normal(0, np.sqrt(var_y)).reshape(ny, 1)\n",
    "       \n",
    "        # Measurement update / Correction\n",
    "        C_tilda =C_fun(x0_observer).full()\n",
    "        L = P_0 @ C_tilda.T @ inv(C_tilda @ P_0 @ C_tilda.T + R)\n",
    "\n",
    "        x0 = system(x0, u_k).full() #plant state\n",
    "        y = measurement(x0).full() \n",
    "        x0_observer = x0_observer + L @ (y - C_tilda @ x0_observer) #observed state after correction\n",
    "        P_0 = (np.eye(nx) - L @ C_tilda) @ P_0\n",
    "\n",
    "        x_data.append(x0)\n",
    "        x_hat_data.append(x0_observer)\n",
    "        y_measured.append(y)\n",
    "\n",
    "        # Prediction_step\n",
    "        x0_observer = system(x0_observer, u_k).full()  # x[k+1|k]   observed state prior correction\n",
    "        A = A_fun(x0_observer, u_k)\n",
    "        P_0 = A @ P_0 @ A.T + Q  # P[k+1|k]\n",
    "\n",
    "    x_data = np.concatenate(x_data, axis=1)\n",
    "    x_hat_data = np.concatenate(x_hat_data, axis=1)\n",
    "\n",
    "    return x_data, x_hat_data, y_measured"
   ]
  },
  {
   "cell_type": "markdown",
   "metadata": {
    "graffitiCellId": "id_bxo16ku"
   },
   "source": [
    "<span class=\"graffiti-highlight graffiti-id_bxo16ku-id_623bt25\"><i></i><button>Show Solution</button></span>"
   ]
  },
  {
   "cell_type": "markdown",
   "metadata": {
    "graffitiCellId": "id_x21my4v"
   },
   "source": [
    "<span class=\"graffiti-highlight graffiti-id_x21my4v-id_yxwdz47\"><i></i>code explanation.</span>"
   ]
  },
  {
   "cell_type": "markdown",
   "metadata": {
    "graffitiCellId": "id_cyskh46"
   },
   "source": [
    "## Task 06 : Designing a Plotting function "
   ]
  },
  {
   "cell_type": "markdown",
   "metadata": {
    "graffitiCellId": "id_hztpuxt"
   },
   "source": [
    "Since we are going to test the EKF on different settings. It makes sense to design a function that plots the plant states against the observer prediction.\n",
    "Create a function: \n",
    "```python\n",
    "def visualize(x_data, x_hat_data):\n",
    "    ...\n",
    "```\n",
    "In the function,\n",
    "1. Create a new figure with three (`nx`) subplots, e.g. with ``fig, ax = plt.subplots(nx)``\n",
    "2. In each subplot:\n",
    "    - Create a line for the true state.\n",
    "    - Create a line for the estimated state.\n",
    "3. Create labels and a legend for the plot"
   ]
  },
  {
   "cell_type": "code",
   "execution_count": 12,
   "metadata": {
    "graffitiCellId": "id_92ribc6"
   },
   "outputs": [],
   "source": [
    "def visualize(x_data, x_hat_data):\n",
    "    fig, ax = plt.subplots(nx)\n",
    "    fig.suptitle('EKF Observer')\n",
    "\n",
    "    for i in range(nx):\n",
    "        ax[i].plot(x_data[i, :])#,label='real state')\n",
    "        ax[i].plot(x_hat_data[i, :],\"r--\")#, label='estimated state')\n",
    "        ax[i].set_ylabel('x{}'.format(i))\n",
    "       # ax[i].set_xticklabels([])\n",
    "\n",
    "    ax[-1].set_xlabel('time_steps')\n",
    " #   fig.legend()\n",
    "    plt.show()"
   ]
  },
  {
   "cell_type": "markdown",
   "metadata": {
    "graffitiCellId": "id_6zfphfi"
   },
   "source": [
    "<span class=\"graffiti-highlight graffiti-id_6zfphfi-id_dtynfqx\"><i></i><button>Show Solution</button></span>"
   ]
  },
  {
   "cell_type": "markdown",
   "metadata": {
    "graffitiCellId": "id_39lqp3r"
   },
   "source": [
    "## EKF performance for different scenarios\n",
    "\n",
    "In the following, we want to investigate the EKF performance for different scenarios. In particular, we investigate different initial conditions and noise levels.\n",
    "\n",
    "To understand these effects, we quickly recap the effect of the  parameters ($\\mathbf{Q}$, $\\mathbf{R}$, $\\mathbf{P}_0$):\n",
    "    \n",
    "$\\mathbf{Q}$ denotes the process noise covariance. Decreasing the values of the elements of $\\mathbf{Q}$ yield a larger weight of the model equations, i.e. the model is assumed to be more accurate. \n",
    "    \n",
    "$\\mathbf{R}$ denotes the measurement noise covariance. Decreasing the values of the elements of $\\mathbf{R}$ yield an increasing weight of the concerning measurements, i.e. the measurement is assumed to be more reliable.\n",
    "\n",
    "$\\mathbf{P}_0$ denotes the covariance matrix of the initial error. It has a large influence on the initial behaviour of the EKF and can be interpreted as a weighting factor of the initial guess, i.e. small values of the elements of $\\mathbf{P}_0$ imply a high accuracy of the initial estimate. \n"
   ]
  },
  {
   "cell_type": "markdown",
   "metadata": {
    "graffitiCellId": "id_3p22bxm"
   },
   "source": [
    "To test the EKF we need to define the following:\n",
    "1. Initial condition for the observer `x_observer`.\n",
    "2. Initial condition for the plant `x_0`.\n",
    "3. The measurement covariance matrix `R`.\n",
    "4. The model covariance matrix `Q`. \n",
    "5. Initial estimate of the error covariance `P_0`.\n",
    "6. The number of wanted simulation steps `N_sim`.\n",
    "\n",
    "Finally, we call the function `discrete_EKF_Filter` and pass the returned arrays ``plant_state`` and ``ob_state`` to our function ``visualize`` to obtain the desired plot."
   ]
  },
  {
   "cell_type": "code",
   "execution_count": 13,
   "metadata": {
    "graffitiCellId": "id_cw68ajc"
   },
   "outputs": [
    {
     "data": {
      "image/png": "[encoded data removed]",
      "text/plain": [
       "<Figure size 640x480 with 6 Axes>"
      ]
     },
     "metadata": {},
     "output_type": "display_data"
    }
   ],
   "source": [
    "x0 = np.array([0.5, 0, 3.1,0,0.36,0.23]).reshape([-1, 1])\n",
    "x_observer = np.array([-0.5, 0, 1.0,0,0.1,0.1]).reshape([-1, 1])\n",
    "\n",
    "# Define the measurement covariance matrix\n",
    "R = np.diag([1e-5, 1e-5]);\n",
    "\n",
    "# Covariance matrix of the state noise\n",
    "q0 = 1e-1;\n",
    "q1 = 1e-3;\n",
    "q2 = 1e-3;\n",
    "q3 = 1e-3;\n",
    "q4 = 1e-5;\n",
    "q5 = 1e2;\n",
    "\n",
    "Q = np.array([[q0,0,0,0,0,0],\n",
    "              [0,q1,0,0,0,0],\n",
    "              [0,0,q2,0,0,0],\n",
    "              [0,0,0,q3,0,0],\n",
    "              [0,0,1e-4,1e-1,q4,0],\n",
    "              [0,0,0,0,0,q5]]);\n",
    "\n",
    "# Covariance Matrix of initial error\n",
    "P0 = Q ;\n",
    "N_sim = 10000\n",
    "\n",
    "#call EKF function\n",
    "[plant_state, obs_state_discrete, plant_measurement] = discrete_EKF_filter(x0, x_observer, P0, Q, R, N_sim )\n",
    "visualize(plant_state, obs_state_discrete)\n"
   ]
  },
  {
   "cell_type": "markdown",
   "metadata": {
    "graffitiCellId": "id_95pqwif"
   },
   "source": [
    "<span class=\"graffiti-highlight graffiti-id_95pqwif-id_js9hfgz\"><i></i><button>Show Solution</button></span>"
   ]
  }
 ],
 "metadata": {
  "graffiti": {
   "firstAuthorId": "dev",
   "id": "id_iz14o18",
   "language": "EN"
  },
  "kernelspec": {
   "display_name": "Python 3 (ipykernel)",
   "language": "python",
   "name": "python3"
  },
  "language_info": {
   "codemirror_mode": {
    "name": "ipython",
    "version": 3
   },
   "file_extension": ".py",
   "mimetype": "text/x-python",
   "name": "python",
   "nbconvert_exporter": "python",
   "pygments_lexer": "ipython3",
   "version": "3.9.7"
  }
 },
 "nbformat": 4,
 "nbformat_minor": 4
}
